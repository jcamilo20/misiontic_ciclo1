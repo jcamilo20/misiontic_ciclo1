{
  "nbformat": 4,
  "nbformat_minor": 0,
  "metadata": {
    "colab": {
      "name": "RETO5.ipynb",
      "provenance": [],
      "collapsed_sections": [],
      "authorship_tag": "ABX9TyNbNM39r4dgv43KS2heG7Re",
      "include_colab_link": true
    },
    "kernelspec": {
      "name": "python3",
      "display_name": "Python 3"
    },
    "language_info": {
      "name": "python"
    }
  },
  "cells": [
    {
      "cell_type": "markdown",
      "metadata": {
        "id": "view-in-github",
        "colab_type": "text"
      },
      "source": [
        "<a href=\"https://colab.research.google.com/github/jcamilo20/misiontic_ciclo1/blob/main/RETO5.ipynb\" target=\"_parent\"><img src=\"https://colab.research.google.com/assets/colab-badge.svg\" alt=\"Open In Colab\"/></a>"
      ]
    },
    {
      "cell_type": "markdown",
      "metadata": {
        "id": "gDlxo6lip8cf"
      },
      "source": [
        "Una biblioteca tiene libros que se identifican mediante números enteros, empezando desde 0. Obviamente, cada libro tiene un autor. La biblioteca tiene una lista de los libros que le hacen falta para completar la colección de libros de cada autor y otra lista de los libros repetidos que tienen para intercambiar con otras bibliotecas. Los libros de un autor se intercambian por otros libros del mismo autor. El trabajo consiste en: a) (vale 1 punto) crear una librería llamada “libros”, que conste como mínimo de las siguientes funciones:\n",
        "\n",
        "b). (Vale 1 punto) La función \"autores” , sirve para que, a partir de una lista de autores de toda la colección que se ambiciona tener, generar una lista de autores, sin repetición.\n",
        "\n",
        "Por ejemplo, si la colección completa tuviera diez libros, cada uno tiene su autor, como en la siguiente lista:\n",
        "\n",
        "['Shakespeare', 'Cervantes', ‘Shakespeare’, 'Gabo', 'Shakespeare', 'Gabo', 'Cervantes', 'Gabo', 'Gabo', 'Cervantes']\n",
        "\n",
        "La función debe retornar: [‘Shakespeare ', 'Cervantes', 'Gabo'] \n",
        "\n",
        "c) (Vale 1 punto). La función \"mefaltandeunautor\": Sirve para que a partir de la lista de números de los libros que hacen falta para completar la colección, la lista de los autores de las obras de la colección cuando esté completa y el nombre de un autor dado (en ese orden), retorne una lista de los libros de ese autor dado que hacen falta para completar la colección. Note que el número que identifica a un libro, apunta a su respectivo autor en la lista de autores.\n",
        "\n",
        "Ejemplo, al invocar la función con las listas: [2, 4, 5, 8],  \n",
        "\n",
        "['Shakespeare', 'Cervantes', ‘Shakespeare’, 'Gabo', 'Shakespeare', 'Gabo', 'Cervantes', 'Gabo', 'Gabo', 'Cervantes'],\n",
        "\n",
        "y la cadena con el nombre del autor ‘Gabo',   debe retornar la lista [5,8]\n",
        "\n",
        "d) (Vale 1 punto). La función \"losnecesito\": dada una lista de los libros disponibles para intercambio que tiene otra biblioteca y una lista de los libros repetidos que tiene mi biblioteca para intercambio, (en ese orden), retorna la lista con los libros que me interesan de la otra biblioteca.\n",
        "\n",
        "Por ejemplo, al invocar la función con las listas otrabiblioteca = [9, 3, 7, 10, 15, 16],   y mibibloteca= [2, 10, 3, 8]\n",
        "\n",
        "debe retornar la lista: [9, 7, 15, 16]\n",
        "\n",
        "e) (Vale 1 punto) Para simplificar la primera versión de la librería de funciones decidieron levantar la restricción que solo cambian libros que son de un mismo autor, y por lo tanto, ahora la lista que maneja cada biblioteca simplemente indica los números de los libros repetidos que tienen para intercambiar y aquellos números que no están en dicha lista son los que necesitan. De esta manera deben crear una función \"puedocambiar”, que reciba la lista de los libros repetidos que tiene la otra biblioteca y la lista de los libros repetidos que tiene mi biblioteca y que retorne la cantidad de libros que pueden cambiar.\n",
        "\n",
        "Por ejemplo, al invocar la función con las listas [13, 6, 17, 11, 15, 16] y  [4, 11, 6, 8]     debe retornar 2\n",
        "\n",
        "Es decir, a la otra biblioteca solo le interesan dos libros que tiene mi biblioteca: [4,8], mientras que a mi biblioteca me interesan cuatro libros que tiene la otra biblioteca: [13,17,15,16], o sea que en total se pueden intercambiar solo 2 libros."
      ]
    },
    {
      "cell_type": "code",
      "metadata": {
        "id": "CN9JF0bAtlEX"
      },
      "source": [
        "def autores(lista_autores):\n",
        "    lista_sin_repetir=[]\n",
        "    for i in lista_autores:\n",
        "      if i not in lista_sin_repetir:\n",
        "        lista_sin_repetir.append(i)\n",
        "    return lista_sin_repetir\n",
        " \n",
        "def mefaltandeunautor(lista_libros, lista_autores, autor):\n",
        "  vector = []\n",
        "  salida =[]\n",
        "  for i in range(0,len(lista_autores)):\n",
        "    if  lista_autores[i] == autor:\n",
        "      vector.append(i)\n",
        "  for i in lista_libros:\n",
        "    for j in vector:\n",
        "      if i==j:\n",
        "        salida.append(i)\n",
        "  return salida\n",
        " \n",
        "def losnecesito(libros_externos_intercambio, libros_propios_repetidos_intercambio):\n",
        "  libros_diferentes=[]\n",
        "  for i in libros_externos_intercambio:\n",
        "    if i not in libros_propios_repetidos_intercambio:\n",
        "      libros_diferentes.append(i)\n",
        "  return libros_diferentes\n",
        " \n",
        "def puedocambiar(libros_externos_repetidos_intercambio, libros_propios_repetidos_intercambio):\n",
        "  vector1=[]\n",
        "  vector2=[]\n",
        "  vector3=[]\n",
        "  for i in libros_propios_repetidos_intercambio:\n",
        "    if i not in libros_externos_repetidos_intercambio:\n",
        "      vector1.append(i)\n",
        "  for j in libros_externos_repetidos_intercambio:\n",
        "    if j not in libros_propios_repetidos_intercambio:\n",
        "      vector2.append(j)\n",
        "  if len(vector1) == len(vector2):\n",
        "    return len(vector1)\n",
        "  else: \n",
        "    vector3=len(vector1),len(vector2)\n",
        "    return min(vector3)"
      ],
      "execution_count": 1,
      "outputs": []
    }
  ]
}